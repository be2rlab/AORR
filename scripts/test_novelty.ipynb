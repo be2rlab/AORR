{
 "cells": [
  {
   "cell_type": "code",
   "execution_count": 1,
   "metadata": {},
   "outputs": [],
   "source": [
    "import torch\n",
    "from torchvision.transforms import ToTensor\n",
    "from torchvision.datasets import ImageFolder\n",
    "import albumentations as A\n",
    "from albumentations.pytorch import ToTensorV2\n",
    "from torch.utils.data import DataLoader\n",
    "import cv2 as cv\n",
    "import os\n",
    "\n",
    "import matplotlib.pyplot as plt\n",
    "import seaborn as sns\n",
    "from umap import UMAP\n",
    "from sklearn.model_selection import train_test_split\n",
    "from sklearn.linear_model import LogisticRegression\n",
    "from sklearn.metrics import accuracy_score\n",
    "from sklearn.neighbors import KNeighborsClassifier\n",
    "from sklearn.neighbors import LocalOutlierFactor\n",
    "import numpy as np\n"
   ]
  },
  {
   "cell_type": "code",
   "execution_count": 2,
   "metadata": {},
   "outputs": [
    {
     "name": "stderr",
     "output_type": "stream",
     "text": [
      "Using cache found in /home/iiwa/.cache/torch/hub/facebookresearch_dino_main\n"
     ]
    }
   ],
   "source": [
    "\n",
    "fe = torch.hub.load('facebookresearch/dino:main', 'dino_vits16')\n",
    "\n",
    "# data = torch.load('checkpoints/sber_objects_features_augs.pth')\n",
    "data = torch.load('m_platform_objects_10aug.pth')\n",
    "features, labels = data['x'], data['y']\n",
    "\n",
    "x_train, x_test, y_train, y_test = train_test_split(features, labels, test_size=0.5, random_state=1)\n",
    "\n",
    "# model = LogisticRegression()\n",
    "# # model = KNeighborsClassifier(weights='distance', metric='cosine')\n",
    "\n",
    "# model.fit(x_train, y_train)\n",
    "\n",
    "# print(accuracy_score(y_test, model.predict(x_test)))\n"
   ]
  },
  {
   "cell_type": "code",
   "execution_count": 3,
   "metadata": {},
   "outputs": [],
   "source": [
    "classes = list(set(labels))\n",
    "\n",
    "known_classes, novel_classes = classes[:int(len(classes) * 0.7)], classes[int(len(classes) * 0.7):]\n"
   ]
  },
  {
   "cell_type": "code",
   "execution_count": 4,
   "metadata": {},
   "outputs": [],
   "source": [
    "\n",
    "train_indxs = []\n",
    "labels = np.array(labels)\n",
    "for c in known_classes:\n",
    "    train_indxs += list(np.where(labels == c)[0])\n",
    "\n",
    "known_features = features[train_indxs]\n",
    "\n",
    "test_indxs = []\n",
    "for c in novel_classes:\n",
    "    test_indxs += list(np.where(labels == c)[0])\n",
    "\n",
    "novel_features = features[test_indxs]\n"
   ]
  },
  {
   "cell_type": "code",
   "execution_count": 5,
   "metadata": {},
   "outputs": [
    {
     "data": {
      "text/plain": [
       "(torch.Size([160, 384]), torch.Size([120, 384]))"
      ]
     },
     "execution_count": 5,
     "metadata": {},
     "output_type": "execute_result"
    }
   ],
   "source": [
    "# train_features = features[labels in train_classes]\n",
    "known_features.shape, novel_features.shape"
   ]
  },
  {
   "cell_type": "code",
   "execution_count": 23,
   "metadata": {},
   "outputs": [
    {
     "data": {
      "text/plain": [
       "(0.875, 1.0)"
      ]
     },
     "execution_count": 23,
     "metadata": {},
     "output_type": "execute_result"
    }
   ],
   "source": [
    "from sklearn.metrics import accuracy_score\n",
    "from sklearn.svm import OneClassSVM\n",
    "from sklearn.linear_model import SGDOneClassSVM\n",
    "\n",
    "\n",
    "train_features, test_known_features = train_test_split(known_features, test_size=0.2, random_state=1)\n",
    "\n",
    "# model = LocalOutlierFactor(n_neighbors=20, metric='cosine', novelty=True)\n",
    "model = OneClassSVM(nu=0.1)\n",
    "# model = SGDOneClassSVM(nu=0.9)\n",
    "\n",
    "model.fit(train_features)\n",
    "\n",
    "test_features = np.concatenate([test_known_features, novel_features])\n",
    "\n",
    "\n",
    "gts = np.concatenate([np.ones((len(test_known_features))), -1 * np.ones((len(novel_features)))])\n",
    "\n",
    "accuracy_score(model.predict(test_known_features), np.ones((len(test_known_features)))), \\\n",
    "    accuracy_score(model.predict(novel_features), -1 * np.ones((len(novel_features))))"
   ]
  },
  {
   "cell_type": "code",
   "execution_count": 40,
   "metadata": {},
   "outputs": [
    {
     "data": {
      "text/plain": [
       "torch.Size([32, 384])"
      ]
     },
     "execution_count": 40,
     "metadata": {},
     "output_type": "execute_result"
    }
   ],
   "source": [
    "test_known_features.shape"
   ]
  },
  {
   "cell_type": "code",
   "execution_count": 25,
   "metadata": {},
   "outputs": [],
   "source": [
    "train_features = features[train_indxs]\n",
    "test_features = features[test_indxs]\n",
    "\n",
    "train_labels = labels[train_indxs]\n",
    "test_labels = labels[test_indxs]"
   ]
  },
  {
   "cell_type": "code",
   "execution_count": 26,
   "metadata": {},
   "outputs": [
    {
     "data": {
      "text/plain": [
       "torch.Size([69, 384])"
      ]
     },
     "execution_count": 26,
     "metadata": {},
     "output_type": "execute_result"
    }
   ],
   "source": [
    "model = LocalOutlierFactor(n_neighbors=10, distance='weights', novelty=True)\n",
    "model.fit()"
   ]
  },
  {
   "cell_type": "code",
   "execution_count": null,
   "metadata": {},
   "outputs": [],
   "source": []
  },
  {
   "cell_type": "code",
   "execution_count": null,
   "metadata": {},
   "outputs": [],
   "source": []
  },
  {
   "cell_type": "code",
   "execution_count": 30,
   "metadata": {},
   "outputs": [
    {
     "ename": "SyntaxError",
     "evalue": "invalid syntax (3490902136.py, line 3)",
     "output_type": "error",
     "traceback": [
      "\u001b[0;36m  File \u001b[0;32m\"/tmp/ipykernel_59973/3490902136.py\"\u001b[0;36m, line \u001b[0;32m3\u001b[0m\n\u001b[0;31m    def __init_\u001b[0m\n\u001b[0m               ^\u001b[0m\n\u001b[0;31mSyntaxError\u001b[0m\u001b[0;31m:\u001b[0m invalid syntax\n"
     ]
    }
   ],
   "source": []
  }
 ],
 "metadata": {
  "interpreter": {
   "hash": "b3ad9cba0bcadebfe95238241ed500f3eb13e9cf702c65bcd4854aa5f3c589a0"
  },
  "kernelspec": {
   "display_name": "Python 3.9.7 ('last_torch')",
   "language": "python",
   "name": "python3"
  },
  "language_info": {
   "codemirror_mode": {
    "name": "ipython",
    "version": 3
   },
   "file_extension": ".py",
   "mimetype": "text/x-python",
   "name": "python",
   "nbconvert_exporter": "python",
   "pygments_lexer": "ipython3",
   "version": "3.7.11"
  },
  "orig_nbformat": 4
 },
 "nbformat": 4,
 "nbformat_minor": 2
}
